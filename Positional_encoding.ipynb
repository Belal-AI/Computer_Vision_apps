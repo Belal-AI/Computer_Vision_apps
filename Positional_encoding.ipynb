{
  "nbformat": 4,
  "nbformat_minor": 0,
  "metadata": {
    "colab": {
      "provenance": [],
      "authorship_tag": "ABX9TyPV8/l5Ut0INGJGRsChMBzj",
      "include_colab_link": true
    },
    "kernelspec": {
      "name": "python3",
      "display_name": "Python 3"
    },
    "language_info": {
      "name": "python"
    }
  },
  "cells": [
    {
      "cell_type": "markdown",
      "metadata": {
        "id": "view-in-github",
        "colab_type": "text"
      },
      "source": [
        "<a href=\"https://colab.research.google.com/github/Belal-AI/Computer_Vision_apps/blob/main/Positional_encoding.ipynb\" target=\"_parent\"><img src=\"https://colab.research.google.com/assets/colab-badge.svg\" alt=\"Open In Colab\"/></a>"
      ]
    },
    {
      "cell_type": "code",
      "execution_count": null,
      "metadata": {
        "id": "6lAb_-R6f_bm"
      },
      "outputs": [],
      "source": [
        "import numpy as np\n",
        "import torch"
      ]
    },
    {
      "cell_type": "code",
      "source": [
        "image_embedded=torch.rand([300,1,256])"
      ],
      "metadata": {
        "id": "9kgRHxmygNFI"
      },
      "execution_count": null,
      "outputs": []
    },
    {
      "cell_type": "code",
      "source": [
        "image_embedded.shape[0]\n",
        "T = 300\n",
        "d = 256"
      ],
      "metadata": {
        "id": "3zO04Z3RhC7y"
      },
      "execution_count": null,
      "outputs": []
    },
    {
      "cell_type": "markdown",
      "source": [
        "\n",
        "\n",
        "```\n",
        "- so we have 300 token each mbedded in vector with length 256\n",
        "- so we should to create embedded positiona embeeding encoding also fo each each one of 300 token vectore with length 256 but remeber for the odd one there is a different assigne with the the event one\n",
        "```\n",
        "\n"
      ],
      "metadata": {
        "id": "SYkgcUySh8pO"
      }
    },
    {
      "cell_type": "code",
      "source": [
        "PE = np.zeros((300, 256))\n",
        "for pos in range(image_embedded.shape[0]):\n",
        "  for i in range(0,256,2):\n",
        "            PE[pos, i] = np.sin(pos / (10000 ** (i / d)))\n",
        "            PE[pos, i + 1] = np.cos(pos / (10000 ** (i / d)))\n"
      ],
      "metadata": {
        "id": "HnubWgsrhPiH"
      },
      "execution_count": 30,
      "outputs": []
    },
    {
      "cell_type": "code",
      "source": [],
      "metadata": {
        "id": "aMxPjwG5olgR"
      },
      "execution_count": null,
      "outputs": []
    }
  ]
}