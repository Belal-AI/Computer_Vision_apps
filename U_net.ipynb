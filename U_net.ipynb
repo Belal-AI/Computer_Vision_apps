{
  "cells": [
    {
      "cell_type": "markdown",
      "metadata": {
        "id": "view-in-github",
        "colab_type": "text"
      },
      "source": [
        "<a href=\"https://colab.research.google.com/github/Belal-AI/FSDAwaesf/blob/main/U_net.ipynb\" target=\"_parent\"><img src=\"https://colab.research.google.com/assets/colab-badge.svg\" alt=\"Open In Colab\"/></a>"
      ]
    },
    {
      "cell_type": "code",
      "execution_count": 67,
      "metadata": {
        "id": "QF2H0N58Yx0G"
      },
      "outputs": [],
      "source": [
        "import tensorflow as tf\n",
        "from tensorflow import keras\n",
        "from tensorflow.keras import layers\n",
        "import tensorflow_datasets as tfds\n",
        "import matplotlib.pyplot as plt\n",
        "import torch.nn.functional as F\n",
        "from PIL import Image\n",
        "from torch.nn.functional import relu\n",
        "import numpy as np\n",
        "import torch\n",
        "import matplotlib.pyplot as plt\n",
        "from torch import nn\n",
        "from torchvision.transforms import Compose,Resize,ToTensor,Normalize"
      ]
    },
    {
      "cell_type": "code",
      "execution_count": 68,
      "metadata": {
        "id": "TB2g46QRZ0_G"
      },
      "outputs": [],
      "source": [
        "dataset, info = tfds.load('oxford_iiit_pet:3.*.*', with_info=True)"
      ]
    },
    {
      "cell_type": "code",
      "execution_count": 69,
      "metadata": {
        "colab": {
          "base_uri": "https://localhost:8080/"
        },
        "id": "YjyES3p0dcWB",
        "outputId": "c6690bd6-db01-4daa-ab71-cca80377479a"
      },
      "outputs": [
        {
          "output_type": "execute_result",
          "data": {
            "text/plain": [
              "TensorShape([500, 500, 3])"
            ]
          },
          "metadata": {},
          "execution_count": 69
        }
      ],
      "source": [
        "sample=list(dataset['train'])[0]['image']\n",
        "\n",
        "sample.shape"
      ]
    },
    {
      "cell_type": "code",
      "execution_count": 128,
      "metadata": {
        "id": "95vW8wXCIFvr"
      },
      "outputs": [],
      "source": [
        "def to_torch_tensor(imge):\n",
        "  \"\"\"\n",
        "  function used to to get the sample frome the iterator\n",
        "  and convert to tensor torch\n",
        "  \"\"\"\n",
        "  img=imge['image']\n",
        "\n",
        "  mask=imge['segmentation_mask']\n",
        "  mean = np.mean(img.numpy())\n",
        "\n",
        "  image = torch.tensor(img.numpy())\n",
        "  mask = torch.tensor(mask.numpy())\n",
        "\n",
        "  return image , mask\n"
      ]
    },
    {
      "cell_type": "code",
      "execution_count": 129,
      "metadata": {
        "id": "xKKrVaz0IsKR"
      },
      "outputs": [],
      "source": [
        "img_list=[]\n",
        "mask_list=[]\n",
        "c=0\n",
        "\"\"\"\n",
        "itertat on the sampel and pass it speratly\n",
        "\"\"\"\n",
        "for i in list(dataset['train']):\n",
        "  if c!=200:\n",
        "    img,mask=to_torch_tensor(i)\n",
        "    img_list.append(img)\n",
        "    mask_list.append(mask)\n",
        "  else:\n",
        "    break\n",
        "  c+=1\n"
      ]
    },
    {
      "cell_type": "code",
      "execution_count": 130,
      "metadata": {
        "id": "x4pderk_hEmN"
      },
      "outputs": [],
      "source": [
        "class UNet(nn.Module):\n",
        "    def __init__(self, n_class):\n",
        "        super().__init__()\n",
        "\n",
        "        # Encoder\n",
        "        # In the encoder, convolutional layers with the Conv2d function are used to extract features from the input image.\n",
        "        # Each block in the encoder consists of two convolutional layers followed by a max-pooling layer, with the exception of the last block which does not include a max-pooling layer.\n",
        "        # -------\n",
        "        # input: 572x572x3\n",
        "        self.e11 = nn.Conv2d(3, 64, kernel_size=3, padding=1) # output: 570x570x64\n",
        "        self.e12 = nn.Conv2d(64, 64, kernel_size=3, padding=1) # output: 568x568x64\n",
        "        self.pool1 = nn.MaxPool2d(kernel_size=2, stride=2) # output: 284x284x64\n",
        "\n",
        "        # input: 284x284x64\n",
        "        self.e21 = nn.Conv2d(64, 128, kernel_size=3, padding=1) # output: 282x282x128\n",
        "        self.e22 = nn.Conv2d(128, 128, kernel_size=3, padding=1) # output: 280x280x128\n",
        "        self.pool2 = nn.MaxPool2d(kernel_size=2, stride=2) # output: 140x140x128\n",
        "\n",
        "        # input: 140x140x128\n",
        "        self.e31 = nn.Conv2d(128, 256, kernel_size=3, padding=1) # output: 138x138x256\n",
        "        self.e32 = nn.Conv2d(256, 256, kernel_size=3, padding=1) # output: 136x136x256\n",
        "        self.pool3 = nn.MaxPool2d(kernel_size=2, stride=2) # output: 68x68x256\n",
        "\n",
        "        # input: 68x68x256\n",
        "        self.e41 = nn.Conv2d(256, 512, kernel_size=3, padding=1) # output: 66x66x512\n",
        "        self.e42 = nn.Conv2d(512, 512, kernel_size=3, padding=1) # output: 64x64x512\n",
        "        self.pool4 = nn.MaxPool2d(kernel_size=2, stride=2) # output: 32x32x512\n",
        "\n",
        "        # input: 32x32x512\n",
        "        self.e51 = nn.Conv2d(512, 1024, kernel_size=3, padding=1) # output: 30x30x1024\n",
        "        self.e52 = nn.Conv2d(1024, 1024, kernel_size=3, padding=1) # output: 28x28x1024\n",
        "\n",
        "\n",
        "        # Decoder\n",
        "        self.upconv1 = nn.ConvTranspose2d(1024, 512, kernel_size=2, stride=2)\n",
        "        self.d11 = nn.Conv2d(1024, 512, kernel_size=3, padding=1)\n",
        "        self.d12 = nn.Conv2d(512, 512, kernel_size=3, padding=1)\n",
        "\n",
        "        desired_output_size = 125\n",
        "# Calculate the padding needed to achieve the desired output size\n",
        "        padding_needed = max(0, desired_output_size - 250)\n",
        "\n",
        "# Determine padding size for each side\n",
        "        padding_left = padding_needed // 2\n",
        "        padding_right = padding_needed - padding_left\n",
        "\n",
        "# Define the ConvTranspose2d layer with the adjusted padding\n",
        "\n",
        "        self.upconv2 = nn.ConvTranspose2d(512, 256, kernel_size=1, stride=2,padding=padding_needed)\n",
        "        self.d21 = nn.Conv2d(512, 256, kernel_size=3, padding=1)\n",
        "        self.d22 = nn.Conv2d(256, 256, kernel_size=3, padding=1)\n",
        "\n",
        "        self.upconv3 = nn.ConvTranspose2d(256, 128, kernel_size=2, stride=2)\n",
        "        self.d31 = nn.Conv2d(256, 128, kernel_size=3, padding=1)\n",
        "        self.d32 = nn.Conv2d(128, 128, kernel_size=3, padding=1)\n",
        "\n",
        "        self.upconv4 = nn.ConvTranspose2d(128, 64, kernel_size=2, stride=2)\n",
        "        self.d41 = nn.Conv2d(128, 64, kernel_size=3, padding=1)\n",
        "        self.d42 = nn.Conv2d(64, 64, kernel_size=3, padding=1)\n",
        "\n",
        "        # Output layer\n",
        "        self.outconv = nn.Conv2d(64, n_class, kernel_size=1)\n",
        "    def forward(self, x):\n",
        "        # Encoder\n",
        "        xe11 = relu(self.e11(x))\n",
        "        xe12 = relu(self.e12(xe11))\n",
        "        print(xe12.shape)\n",
        "        xp1 = self.pool1(xe12)\n",
        "\n",
        "        xe21 = relu(self.e21(xp1))\n",
        "        xe22 = relu(self.e22(xe21))\n",
        "        print(xe22.shape)\n",
        "        xp2 = self.pool2(xe22)\n",
        "\n",
        "        xe31 = relu(self.e31(xp2))\n",
        "        xe32 = relu(self.e32(xe31))\n",
        "        xp3 = self.pool3(xe32)\n",
        "\n",
        "        xe41 = relu(self.e41(xp3))\n",
        "        xe42 = relu(self.e42(xe41))\n",
        "        xp4 = self.pool4(xe42)\n",
        "\n",
        "        xe51 = relu(self.e51(xp4))\n",
        "        xe52 = relu(self.e52(xe51))\n",
        "\n",
        "\n",
        "        #decoder\n",
        "        u1=relu(self.upconv1(xe52))\n",
        "        catu1=torch.concat([u1,xe42],dim=1)\n",
        "        u1c1=relu(self.d11(catu1))\n",
        "        u1c2=relu(self.d12(u1c1))\n",
        "\n",
        "        u2=relu(self.upconv2(u1c2))\n",
        "        u2 = F.interpolate(u2, size=(125, 125), mode='bilinear', align_corners=False)\n",
        "        catu2=torch.concat([u2,xe32],dim=1)\n",
        "        u2c1=relu(self.d21(catu2))\n",
        "        u2c2=relu(self.d22(u2c1))\n",
        "\n",
        "\n",
        "\n",
        "        u3=relu(self.upconv3(u2c2))\n",
        "        concat3=torch.concat([u3,xe22],dim=1)\n",
        "        u3c1=relu(self.d31(concat3))\n",
        "        u3c2=relu(self.d32(u3c1))\n",
        "\n",
        "\n",
        "        u4=relu(self.upconv4(u3c2))\n",
        "        concat4=torch.concat([u4,xe12],dim=1)\n",
        "        u4c1=relu(self.d41(concat4))\n",
        "        u4c2=relu(self.d42(u4c1))\n",
        "        print(u4c2.shape)\n",
        "        cls=F.softmax(self.outconv(u4c2),dim=1)\n",
        "\n",
        "        return cls\n",
        ""
      ]
    },
    {
      "cell_type": "code",
      "execution_count": 131,
      "metadata": {
        "id": "IOysIfwvnTLu"
      },
      "outputs": [],
      "source": [
        "first=UNet(3)"
      ]
    },
    {
      "cell_type": "code",
      "execution_count": 132,
      "metadata": {
        "colab": {
          "base_uri": "https://localhost:8080/"
        },
        "id": "_M3gBbu8trGs",
        "outputId": "67ece0d4-a44f-4d9c-cd2e-565113aef82f"
      },
      "outputs": [
        {
          "output_type": "stream",
          "name": "stdout",
          "text": [
            "torch.Size([1, 64, 500, 500])\n",
            "torch.Size([1, 128, 250, 250])\n",
            "torch.Size([1, 64, 500, 500])\n"
          ]
        }
      ],
      "source": [
        "cls_victors=first.forward(torch.unsqueeze(img_list[0].float(),0).permute(0,3,1,2))"
      ]
    },
    {
      "cell_type": "code",
      "source": [
        "_, predicted_labels = torch.max(cls_victors, dim=1)"
      ],
      "metadata": {
        "id": "dlYFir5w7xlr"
      },
      "execution_count": 133,
      "outputs": []
    },
    {
      "cell_type": "code",
      "source": [
        "torch.unique(predicted_labels)"
      ],
      "metadata": {
        "id": "lpJLf2IGMHm9",
        "outputId": "f9ae3019-1aa2-467e-b6cb-7b50af5cf7a6",
        "colab": {
          "base_uri": "https://localhost:8080/"
        }
      },
      "execution_count": 134,
      "outputs": [
        {
          "output_type": "execute_result",
          "data": {
            "text/plain": [
              "tensor([0, 2])"
            ]
          },
          "metadata": {},
          "execution_count": 134
        }
      ]
    },
    {
      "cell_type": "code",
      "source": [
        "plt.imshow(predicted_labels.squeeze().cpu().numpy(), cmap='viridis')  # Squeeze removes the singleton dimension"
      ],
      "metadata": {
        "id": "F7qyJcotMKiL",
        "outputId": "33565447-c714-40ca-c693-05217707bde5",
        "colab": {
          "base_uri": "https://localhost:8080/",
          "height": 453
        }
      },
      "execution_count": 101,
      "outputs": [
        {
          "output_type": "execute_result",
          "data": {
            "text/plain": [
              "<matplotlib.image.AxesImage at 0x7fc0a0300e80>"
            ]
          },
          "metadata": {},
          "execution_count": 101
        },
        {
          "output_type": "display_data",
          "data": {
            "text/plain": [
              "<Figure size 640x480 with 1 Axes>"
            ],
            "image/png": "[encoded data removed]"
          },
          "metadata": {}
        }
      ]
    },
    {
      "cell_type": "code",
      "source": [
        "optmizer=torch.optim.AdamW(first.parameters())"
      ],
      "metadata": {
        "id": "RO3Hr4ZEMf7L"
      },
      "execution_count": 146,
      "outputs": []
    },
    {
      "cell_type": "code",
      "source": [
        "predicted_labels.shape"
      ],
      "metadata": {
        "id": "XIK25YnnRovR",
        "outputId": "d351f4e1-fda1-482a-97f4-e9aaa30bf2a2",
        "colab": {
          "base_uri": "https://localhost:8080/"
        }
      },
      "execution_count": 104,
      "outputs": [
        {
          "output_type": "execute_result",
          "data": {
            "text/plain": [
              "torch.Size([1, 500, 500])"
            ]
          },
          "metadata": {},
          "execution_count": 104
        }
      ]
    },
    {
      "cell_type": "markdown",
      "source": [
        "![IMG_0115.png](data:image/png;base64,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)"
      ],
      "metadata": {
        "id": "kZu4E60YdOOM"
      }
    },
    {
      "cell_type": "code",
      "source": [
        "import torch\n",
        "\n",
        "def dice_loss(predicted, target, smooth=1.):\n",
        "\n",
        "    \"\"\"\n",
        "    one of the most important metrics that calculate the similarity between objects\n",
        "    by flatten it and pass it to get the intersection from it and devide it on the\n",
        "    summations\n",
        "    \"\"\"\n",
        "    predicted_flat = predicted.view(-1)\n",
        "    target_flat = target.view(-1)\n",
        "\n",
        "    intersection = (predicted_flat * target_flat).sum()\n",
        "    dice_coeff = (2. * intersection + smooth) / (predicted_flat.sum() + target_flat.sum() + smooth)\n",
        "    return 1. - dice_coeff\n",
        "\n",
        "\n"
      ],
      "metadata": {
        "id": "cZ3VhIU_ZXG8"
      },
      "execution_count": 151,
      "outputs": []
    },
    {
      "cell_type": "code",
      "source": [
        "\"\"\"\n",
        "a cycle for the training just one epch\n",
        "\"\"\"\n",
        "losses = []\n",
        "optmizer.zero_grad()\n",
        "ypred = predicted_labels.float()  # Convert to float if not already\n",
        "gt_mask = mask_list[0].permute(2, 0, 1).float()  # Convert to float if not already\n",
        "loss = dice_loss(ypred, gt_mask)\n",
        "losses.append(loss.item())  # Append loss value to the list\n",
        "loss.requires_grad = True\n",
        "loss.backward()\n",
        "optmizer.step()\n"
      ],
      "metadata": {
        "id": "cT4JhpNTQPxb",
        "outputId": "628b158b-5e50-4560-e202-4021a320411c",
        "colab": {
          "base_uri": "https://localhost:8080/"
        }
      },
      "execution_count": 150,
      "outputs": [
        {
          "output_type": "stream",
          "name": "stdout",
          "text": [
            "torch.Size([250000])\n"
          ]
        }
      ]
    }
  ],
  "metadata": {
    "accelerator": "GPU",
    "colab": {
      "gpuType": "T4",
      "provenance": [],
      "authorship_tag": "ABX9TyML5UaI8CIdpdIbP8iAEFhZ",
      "include_colab_link": true
    },
    "kernelspec": {
      "display_name": "Python 3",
      "name": "python3"
    },
    "language_info": {
      "name": "python"
    }
  },
  "nbformat": 4,
  "nbformat_minor": 0
}